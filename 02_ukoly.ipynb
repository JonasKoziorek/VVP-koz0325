{
 "cells": [
  {
   "cell_type": "markdown",
   "metadata": {},
   "source": [
    "# Prostory jmen a obor platnosti proměnných:\n",
    "- Upravte funkci nalézající prvočísla tak, aby ukládala již spočítané prvočísla do listu v defaultním argumentu funkce. \n"
   ]
  },
  {
   "cell_type": "code",
   "execution_count": 97,
   "metadata": {},
   "outputs": [],
   "source": [
    "def isPrime(p):\n",
    "    for i in range(2,p-1):\n",
    "        if p % i == 0:\n",
    "            return False\n",
    "    return True\n",
    "\n",
    "def nprimes(n:int, res = [1,2]):\n",
    "    c = res[-1]+1\n",
    "    orig_len = len(res)\n",
    "    while len(res) != orig_len+n:\n",
    "        if isPrime(c):\n",
    "            res.append(c)\n",
    "        c+=1\n",
    "    print(res)"
   ]
  },
  {
   "cell_type": "code",
   "execution_count": 98,
   "metadata": {},
   "outputs": [
    {
     "name": "stdout",
     "output_type": "stream",
     "text": [
      "[1, 2, 3, 5, 7]\n",
      "[1, 2, 3, 5, 7, 11, 13, 17]\n",
      "[1, 2, 3, 5, 7, 11, 13, 17, 19, 23, 29]\n"
     ]
    }
   ],
   "source": [
    " for i in range(3):\n",
    "    nprimes(3)"
   ]
  },
  {
   "cell_type": "markdown",
   "metadata": {},
   "source": [
    "\n",
    "# Jupyter magics:\n",
    "- použijte funkci %%writefile a pomocí ní (a kopie funkcí z posledního DU) vytvořte .py soubor sloužící jako modul mající tři funkce viz minulý DU\n",
    "- Použijte magic příkazy %time %timeit %%time a %%timeit k měření času běhu různých částí kódu (například funkcí z minulého DU).\n"
   ]
  },
  {
   "cell_type": "code",
   "execution_count": 104,
   "metadata": {},
   "outputs": [
    {
     "name": "stdout",
     "output_type": "stream",
     "text": [
      "Overwriting test.py\n"
     ]
    }
   ],
   "source": [
    "%%writefile test.py\n",
    "def sqrt2(a,n = 100):\n",
    "    x = a\n",
    "    for i in range(n):\n",
    "        x = (a/x + x)/2\n",
    "    return x\n",
    "\n",
    "def approximate_pi(n: int):\n",
    "    a = 1\n",
    "    b = 1\n",
    "    v = sqrt2(a-(b/2)**2)\n",
    "    for i in range(n):\n",
    "        b = sqrt2((b/2)**2+(1-v)**2)\n",
    "        v = sqrt2(a - (b/2)**2)\n",
    "    return 6*(2**n)*b*v/2\n",
    "\n",
    "def approximate_pi2(n):\n",
    "    a = lambda i: 1/16 if i == 1 else a(i-1)*(2*i-3)/(8*i)\n",
    "    return 12*(-sqrt2(3,1000)/8+1/2-sum([1/(2*i+1)*a(i) for i in range(1,n+1)]))"
   ]
  },
  {
   "cell_type": "code",
   "execution_count": 114,
   "metadata": {},
   "outputs": [
    {
     "name": "stdout",
     "output_type": "stream",
     "text": [
      "Wall time: 0 ns\n"
     ]
    },
    {
     "data": {
      "text/plain": [
       "7.0710678118654755"
      ]
     },
     "execution_count": 114,
     "metadata": {},
     "output_type": "execute_result"
    }
   ],
   "source": [
    "def sqrt2(a,n = 100):\n",
    "    x = a\n",
    "    for i in range(n):\n",
    "        x = (a/x + x)/2\n",
    "    return x\n",
    "\n",
    "%time sqrt2(50,1000)"
   ]
  },
  {
   "cell_type": "code",
   "execution_count": 115,
   "metadata": {},
   "outputs": [
    {
     "name": "stdout",
     "output_type": "stream",
     "text": [
      "127 µs ± 6.02 µs per loop (mean ± std. dev. of 7 runs, 10000 loops each)\n"
     ]
    }
   ],
   "source": [
    "%timeit sqrt2(50,1000)"
   ]
  },
  {
   "cell_type": "code",
   "execution_count": 116,
   "metadata": {},
   "outputs": [
    {
     "name": "stdout",
     "output_type": "stream",
     "text": [
      "Wall time: 1 ms\n"
     ]
    },
    {
     "data": {
      "text/plain": [
       "7.0710678118654755"
      ]
     },
     "execution_count": 116,
     "metadata": {},
     "output_type": "execute_result"
    }
   ],
   "source": [
    "%%time\n",
    "def sqrt2(a,n = 100):\n",
    "    x = a\n",
    "    for i in range(n):\n",
    "        x = (a/x + x)/2\n",
    "    return x\n",
    "sqrt2(50, 1000)"
   ]
  },
  {
   "cell_type": "code",
   "execution_count": 117,
   "metadata": {},
   "outputs": [
    {
     "name": "stdout",
     "output_type": "stream",
     "text": [
      "13.3 µs ± 1.88 µs per loop (mean ± std. dev. of 7 runs, 100000 loops each)\n"
     ]
    }
   ],
   "source": [
    "%%timeit\n",
    "def sqrt2(a,n = 100):\n",
    "    x = a\n",
    "    for i in range(n):\n",
    "        x = (a/x + x)/2\n",
    "    return x\n",
    "sqrt2(50, 100)"
   ]
  },
  {
   "cell_type": "markdown",
   "metadata": {},
   "source": [
    "\n",
    "# Práce s řetězci:\n",
    "\n",
    "- Použíjte funkce z minulého úkolu a v cyklu spočtěte $\\pi$ s různým $n$. Pomocí f-strings vypište výsledky ve formátu \"n = 5, pi = 3.14159, počet správných cifer = 5\".\n"
   ]
  },
  {
   "cell_type": "code",
   "execution_count": 128,
   "metadata": {},
   "outputs": [
    {
     "name": "stdout",
     "output_type": "stream",
     "text": [
      "n=1, pi=2.9999999999999996, pocet spravnych cifer = 16\n",
      "n=2, pi=3.1058285412302484, pocet spravnych cifer = 16\n",
      "n=3, pi=3.1326286132812378, pocet spravnych cifer = 16\n",
      "n=4, pi=3.1393502030468676, pocet spravnych cifer = 16\n",
      "n=5, pi=3.1410319508905102, pocet spravnych cifer = 16\n",
      "n=6, pi=3.1414524722854624, pocet spravnych cifer = 16\n",
      "n=7, pi=3.1415576079118575, pocet spravnych cifer = 16\n",
      "n=8, pi=3.1415838921483186, pocet spravnych cifer = 16\n",
      "n=9, pi=3.14159046322805, pocet spravnych cifer = 14\n",
      "n=10, pi=3.141592105999271, pocet spravnych cifer = 15\n",
      "n=11, pi=3.141592516692157, pocet spravnych cifer = 15\n",
      "n=12, pi=3.1415926193653836, pocet spravnych cifer = 16\n",
      "n=13, pi=3.1415926450336906, pocet spravnych cifer = 16\n",
      "n=14, pi=3.141592651450767, pocet spravnych cifer = 15\n",
      "n=15, pi=3.141592653055036, pocet spravnych cifer = 15\n",
      "\n",
      "n=1, pi=3.1519237886466844, pocet spravnych cifer = 16\n",
      "n=2, pi=3.1425487886466845, pocet spravnych cifer = 16\n",
      "n=3, pi=3.1417117350752557, pocet spravnych cifer = 16\n",
      "n=4, pi=3.1416100098148387, pocet spravnych cifer = 16\n",
      "n=5, pi=3.1415954446070975, pocet spravnych cifer = 16\n",
      "n=6, pi=3.1415931337808694, pocet spravnych cifer = 16\n",
      "n=7, pi=3.1415927403902137, pocet spravnych cifer = 16\n",
      "n=8, pi=3.1415926698836163, pocet spravnych cifer = 16\n",
      "n=9, pi=3.1415926567409396, pocet spravnych cifer = 16\n",
      "n=10, pi=3.1415926542141035, pocet spravnych cifer = 16\n",
      "n=11, pi=3.1415926537159766, pocet spravnych cifer = 16\n",
      "n=12, pi=3.141592653615729, pocet spravnych cifer = 15\n",
      "n=13, pi=3.1415926535952012, pocet spravnych cifer = 16\n",
      "n=14, pi=3.1415926535909344, pocet spravnych cifer = 16\n",
      "n=15, pi=3.1415926535900365, pocet spravnych cifer = 16\n"
     ]
    }
   ],
   "source": [
    "def approximate_pi(n: int):\n",
    "    a = 1\n",
    "    b = 1\n",
    "    v = sqrt2(a-(b/2)**2)\n",
    "    for i in range(n):\n",
    "        b = sqrt2((b/2)**2+(1-v)**2)\n",
    "        v = sqrt2(a - (b/2)**2)\n",
    "    return 6*(2**n)*b*v/2\n",
    "\n",
    "def approximate_pi2(n):\n",
    "    a = lambda i: 1/16 if i == 1 else a(i-1)*(2*i-3)/(8*i)\n",
    "    return 12*(-sqrt2(3,1000)/8+1/2-sum([1/(2*i+1)*a(i) for i in range(1,n+1)]))\n",
    "\n",
    "def test_func(func, n):\n",
    "    length = lambda num: len(str(num).split(\".\")[1])\n",
    "    for i in [f\"n={j}, pi={func(j)}, pocet spravnych cifer = {length(func(j))}\" for j in range(1, n+1)]:\n",
    "        print(i)\n",
    "\n",
    "test_func(approximate_pi, 15)\n",
    "print(\"\")\n",
    "test_func(approximate_pi2, 15)"
   ]
  },
  {
   "cell_type": "markdown",
   "metadata": {},
   "source": [
    "\n",
    "# Generátory a iterátory:\n",
    "\n",
    "- Napište generátor (funkci), který vytváří Fibonacciho posloupnost a vrátí prvních $n$ členů.\n"
   ]
  },
  {
   "cell_type": "code",
   "execution_count": 156,
   "metadata": {},
   "outputs": [],
   "source": [
    "def fibonacci(n):\n",
    "    res = [0,1]\n",
    "    for i in range(n-2):\n",
    "        res.append(res[i]+res[i+1])\n",
    "    return res\n",
    "\n",
    "# generator\n",
    "def fibonacci2(n):\n",
    "    res = [0,1]\n",
    "    for i in range(n-2):\n",
    "        num = res[i]+res[i+1]\n",
    "        res.append(num)\n",
    "        yield num"
   ]
  },
  {
   "cell_type": "code",
   "execution_count": 164,
   "metadata": {},
   "outputs": [
    {
     "name": "stdout",
     "output_type": "stream",
     "text": [
      "1\n",
      "2\n",
      "3\n",
      "5\n",
      "8\n",
      "13\n",
      "21\n",
      "34\n"
     ]
    }
   ],
   "source": [
    "fib = fibonacci2(10)\n",
    "while True:\n",
    "    try:\n",
    "        print(next(fib))\n",
    "    except:\n",
    "        break"
   ]
  },
  {
   "cell_type": "markdown",
   "metadata": {},
   "source": [
    "\n",
    "# List comprehension:\n",
    "- Vytvořte seznam čísel od 1 do 10 pomocí list comprehension.\n",
    "- Vytvořte seznam druhých mocnin čísel od 1 do 10 pomocí list comprehension.\n",
    "- Vytvořte seznam prvočísel od 1 do 100 pomocí list comprehension. Hint (použijte funkci all() na generátor testující dělitelnost).\n"
   ]
  },
  {
   "cell_type": "code",
   "execution_count": 102,
   "metadata": {},
   "outputs": [],
   "source": [
    "[i for i in range(1,11)]\n",
    "[i**2 for i in range(1,11)]\n",
    "[i for i in range(1,101) if isPrime(i)];"
   ]
  },
  {
   "cell_type": "markdown",
   "metadata": {},
   "source": [
    "\n",
    "# Práce se soubory:\n",
    "- Pomocí %%writefile vytvořte soubor s nějakým textem.\n",
    "- Otevřete soubor pro čtení a vypište jeho obsah.\n",
    "- Otevřete jiný soubor pro zápis a napište do něj textový řetězec.\n",
    "- Pomocí f-strings zapište do souboru tabulku čísel od 1 do 10, jejich druhých mocnin a jejich druhých odmocnin."
   ]
  },
  {
   "cell_type": "code",
   "execution_count": 185,
   "metadata": {},
   "outputs": [
    {
     "name": "stdout",
     "output_type": "stream",
     "text": [
      "Overwriting text.txt\n"
     ]
    }
   ],
   "source": [
    "%%writefile text.txt\n",
    "akaaaaaaaaaaaaaaaaaaaajjjjjjjjjjjsddddddddfsak\n",
    "akaaaaaaaaaaaaaaaaaaaajjjjjjjjjjjsddddddddfsak\n",
    "akaaaaaaaaaaaaaaaaaaaajjjjjjjjjjjsddddddddfsak"
   ]
  },
  {
   "cell_type": "code",
   "execution_count": null,
   "metadata": {},
   "outputs": [],
   "source": [
    "# %load text.txt\n",
    "akaaaaaaaaaaaaaaaaaaaajjjjjjjjjjjsddddddddfsak\n",
    "akaaaaaaaaaaaaaaaaaaaajjjjjjjjjjjsddddddddfsak\n",
    "akaaaaaaaaaaaaaaaaaaaajjjjjjjjjjjsddddddddfsak\n"
   ]
  },
  {
   "cell_type": "code",
   "execution_count": 172,
   "metadata": {},
   "outputs": [
    {
     "name": "stdout",
     "output_type": "stream",
     "text": [
      "Appending to text.txt\n"
     ]
    }
   ],
   "source": [
    "%%writefile -a text.txt\n",
    "doplnek doplnek doplnek doplnek"
   ]
  },
  {
   "cell_type": "code",
   "execution_count": 190,
   "metadata": {},
   "outputs": [],
   "source": [
    "with open(\"text.txt\",\"w\") as file:\n",
    "    for i,j,k in [(i,i**2,i**(1/2)) for i in range(1,11)]:\n",
    "        file.write(f\"{i}\\t{j}\\t{k}\\n\")"
   ]
  },
  {
   "cell_type": "code",
   "execution_count": null,
   "metadata": {},
   "outputs": [],
   "source": [
    "# %load text.txt\n",
    "1\t1\t1.0\n",
    "2\t4\t1.4142135623730951\n",
    "3\t9\t1.7320508075688772\n",
    "4\t16\t2.0\n",
    "5\t25\t2.23606797749979\n",
    "6\t36\t2.449489742783178\n",
    "7\t49\t2.6457513110645907\n",
    "8\t64\t2.8284271247461903\n",
    "9\t81\t3.0\n",
    "10\t100\t3.1622776601683795\n"
   ]
  },
  {
   "cell_type": "markdown",
   "metadata": {},
   "source": [
    "# Domácí úkol:\n",
    "Pomocí vlastních tříd a dědičnosti vytvořte \"soubor tříd\" = nástroj pro derivaci funkcí.\n",
    "\n",
    "Konkrétněji:\n",
    "- Vytvořte třídu **Operator**\n",
    "    - Třída bude mít metody:\n",
    "        - `__init__()` - inicializuje operátor (zde stačí `pass`)\n",
    "        - `__str__()` - vrací řetězec reprezentující operátor\n",
    "        - `__repr__()` - vrací řetězec reprezentující operátor\n",
    "- Vytvořte třídu **BinaryOperator**, která bude dědit od třídy Operator\n",
    "    - Třída bude mít atributy:\n",
    "        - `levy_argument` - levý operand\n",
    "        - `pravy_argument` - pravý operand\n",
    "    - Třída bude mít metody:\n",
    "        - `__init__()` - inicializuje operátor, přiřadí argumenty\n",
    "        - `__str__()` - vrací řetězec reprezentující operátor\n",
    "        - `__repr__()` - vrací řetězec reprezentující operátor\n",
    "        - `diff()` - vrací derivaci operátoru\n",
    "- Vytvořte třídu **UnaryOperator**, která bude dědit od třídy Operator\n",
    "    - Třída bude mít atributy:\n",
    "        - `argument` - argument funkce \n",
    "    - Třída bude mít metody:\n",
    "        - `__init__()` - inicializuje operátor, přiřadí argument\n",
    "        - `__str__()` - vrací řetězec reprezentující operátor\n",
    "        - `__repr__()` - vrací řetězec reprezentující operátor\n",
    "        - `diff()` - vrací derivaci operátoru\n",
    "\n",
    "Pro počítání derivací použijte standardní pravidla:\n",
    "- derivace součtu je součet derivací\n",
    "- pravidlo pro derivaci součinu\n",
    "- derivace funkce je derivovaná funkce násobená derivovaným argumentem\n",
    "\n",
    "Pro **BinaryOperator** a **UnaryOperator** implementujte také metody implementující standardní operátory:\n",
    "- `__add__()` - implementuje operátor `+`\n",
    "- `__sub__()` - implementuje operátor `-`\n",
    "- `__mul__()` - implementuje operátor `*`\n",
    "\n",
    "Pro **BinaryOperator** implementujte dvě dceřiné třídy:\n",
    "- **Addition** - implementuje operátor `+`\n",
    "- **Multiplication** - implementuje operátor `*`\n",
    "\n",
    "Pro **UnaryOperator** implementujte tyto dceřiné třídy:\n",
    "- **exp** - implementuje funkci `exp`\n",
    "- **sin** - implementuje funkci `sin`\n",
    "- **cos** - implementuje funkci `cos`\n",
    "- **ln** - implementuje funkci `ln`\n",
    "- **frc** - implementuje funkci `1/x`\n",
    "- **identity** - implementuje identitu `x`\n",
    "- **cst** - implementuje konstantu `c`\n",
    "- **mocnina** - implementuje mocninu `x^n`\n",
    "\n",
    "U všech funckí implementujte adekvátně metodu `diff()` a `__str__()`, tak aby se funkce vypisovaly v přehledné podobě.\n",
    "\n",
    "Ozkoušejte na následujících funkcích:\n",
    "- $sin(x + cos(x*x)) + 1$\n",
    "- $x^2 + 2x + 1 + 2x^2$\n",
    "- $x^2 + 2x + exp(x)$"
   ]
  },
  {
   "cell_type": "code",
   "execution_count": 194,
   "metadata": {},
   "outputs": [],
   "source": [
    "# kostra k doplnění, místa označená TODO doplňte\n",
    "from IPython.display import display, Math, Latex\n",
    "\n",
    "class Opertor:\n",
    "    def __init__(self):\n",
    "        pass\n",
    "    \n",
    "    def __str__(self):\n",
    "        return type(self).__name__\n",
    "    \n",
    "    def __repr__(self):\n",
    "        return self.__str__()\n",
    "    \n",
    "    def diff(self):\n",
    "        pass\n",
    "    \n",
    "    def __add__(self, other):\n",
    "        # TODO (použijte Addition)\n",
    "        return Addition(self, other)\n",
    "    \n",
    "    def __sub__(self, other):\n",
    "        # TODO (použijte Addition a Multiplication se zápornou konstantu)\n",
    "        return Addition(self, Multiplication(cst(-1), other))\n",
    "    \n",
    "    def __mul__(self, other):\n",
    "        # TODO (použijte Multiplication)\n",
    "        return Multiplication(self, other)\n",
    "    \n",
    "class BinaryOperator(Opertor):\n",
    "    def __init__(self, levy_argument, pravy_argument):\n",
    "        self.levy_argument = levy_argument\n",
    "        self.pravy_argument = pravy_argument\n",
    "        \n",
    "class UnaryOperator(Opertor):\n",
    "    def __init__(self, argument):\n",
    "        self.argument = argument\n",
    "        \n",
    "class Addition(BinaryOperator):\n",
    "    def __str__(self):\n",
    "        # TODO vypíšeme něco jako (levy_argument)+(pravy_argument)\n",
    "        if isinstance(self.pravy_argument, Multiplication):\n",
    "            if isinstance(self.pravy_argument.levy_argument, cst):\n",
    "                if self.pravy_argument.levy_argument.value < 0:\n",
    "                    return f\"{self.levy_argument} {self.pravy_argument}\"\n",
    "                \n",
    "        elif isinstance(self.pravy_argument, cst):\n",
    "            if self.pravy_argument.value < 0:\n",
    "                return f\"{self.levy_argument} {self.pravy_argument}\"\n",
    "\n",
    "        return f\"{self.levy_argument}+{self.pravy_argument}\"\n",
    "    \n",
    "    def diff(self):\n",
    "        # TODO\n",
    "        return self.levy_argument.diff() + self.pravy_argument.diff()\n",
    "    \n",
    "class Multiplication(BinaryOperator):\n",
    "    def __str__(self):\n",
    "        # TODO vypíšeme něco jako (levy_argument)*(pravy_argument)\n",
    "        if isinstance(self.levy_argument, Addition):\n",
    "            \n",
    "            leva = f\"({self.levy_argument})\"\n",
    "        else:\n",
    "            leva = str(self.levy_argument)\n",
    "            \n",
    "        if isinstance(self.pravy_argument, Addition):\n",
    "            prava = f\"({self.pravy_argument})\"\n",
    "        else:\n",
    "            prava = str(self.pravy_argument)\n",
    "         \n",
    "        return leva + prava\n",
    "#         return leva + r\" \\cdot \" + prava\n",
    "    \n",
    "    def diff(self):\n",
    "        # TODO    \n",
    "        return (self.levy_argument.diff() * self.pravy_argument) + (self.levy_argument * self.pravy_argument.diff())\n",
    "        \n",
    "    \n",
    "    def diff(self):\n",
    "        # TODO    \n",
    "        return (self.levy_argument.diff() * self.pravy_argument) + (self.levy_argument * self.pravy_argument.diff())\n",
    "        \n",
    "    \n",
    "class cst(UnaryOperator):\n",
    "    def __init__(self, value):\n",
    "        self.value = value\n",
    "        \n",
    "    def __str__(self):\n",
    "        # TODO vypíšeme něco jako value\n",
    "        return str(self.value)\n",
    "    \n",
    "    def diff(self):\n",
    "        # TODO\n",
    "        return cst(0)\n",
    "    \n",
    "    def __add__(self, other):\n",
    "        if isinstance(other, cst):\n",
    "            return cst(self.value + other.value)\n",
    "        else:\n",
    "            return Addition(self, other)\n",
    "    \n",
    "    def __mul__(self, other):\n",
    "        if isinstance(other, cst):\n",
    "            return cst(self.value * other.value)\n",
    "        else:\n",
    "            return Multiplication(cst(self.value), other)\n",
    "    \n",
    "    def __eq__(self, other):\n",
    "        if isinstance(other, cst):\n",
    "            return self.value == other.value\n",
    "        return False\n",
    "    \n",
    "    \n",
    "class identity(UnaryOperator):\n",
    "    def __init__(self, argument):\n",
    "        self.argument = argument\n",
    "    def __str__(self):\n",
    "        # TODO vypíšeme něco jako x   \n",
    "        return self.argument\n",
    "        \n",
    "    def diff(self):\n",
    "        # TODO\n",
    "        return cst(1)\n",
    "    \n",
    "    def __add__(self, other):\n",
    "        if type(self) == type(other):\n",
    "            if self == other:\n",
    "                return Multiplication(cst(2), identity(self.argument))\n",
    "        return Addition(self, other)\n",
    "    \n",
    "    def __eq__(self, other):\n",
    "        if isinstance(other, identity):\n",
    "            return self.argument == other.argument\n",
    "        return False\n",
    "    \n",
    "class mocnina(UnaryOperator):\n",
    "    def __init__(self, argument, exponent: cst):\n",
    "        self.argument = argument\n",
    "        self.exponent = exponent\n",
    "    def __str__(self):\n",
    "        if isinstance(self.argument, Addition):\n",
    "            return r\"{(\" + str(self.argument) + r\")^{\" + str(self.exponent) + r\"}}\"\n",
    "        else:\n",
    "            return r\"{\" + str(self.argument) + r\"^{\" + str(self.exponent) + r\"}}\"\n",
    "\n",
    "    def diff(self):\n",
    "        value = self.exponent.value\n",
    "        if value == 1 or value == 1.0:\n",
    "            if isinstance(self.argument, Multiplication):\n",
    "                return self.argument.levy_argument\n",
    "            else:\n",
    "                return cst(1)\n",
    "        elif value == 0 or value == 0.0:\n",
    "            return cst(0)\n",
    "        else:\n",
    "            return mocnina(self.exponent * self.argument, self.exponent + cst(-1))\n",
    "    \n",
    "class sin(UnaryOperator):\n",
    "    def diff(self):\n",
    "        # TODO\n",
    "        return cos(self.argument) * self.argument.diff()\n",
    "    \n",
    "    def __str__(self):\n",
    "        return r\" sin(\" + str(self.argument) + r\")\"\n",
    "    \n",
    "    def __add__(self, other):\n",
    "        if type(self) == type(other):\n",
    "            if  type(self.argument) == type(other.argument):\n",
    "                if self.argument == other.argument:\n",
    "                    return cst(2) * self\n",
    "                else:\n",
    "                    return sin(self.argument + other.argument)\n",
    "        else:\n",
    "            return Addition(self, other)\n",
    "    \n",
    "\n",
    "class cos(UnaryOperator):\n",
    "    def diff(self):\n",
    "        # TODO\n",
    "        return cst(-1) * sin(self.argument) * self.argument.diff()\n",
    "    \n",
    "    def __str__(self):\n",
    "        return r\" cos(\" + str(self.argument) + r\")\"\n",
    "\n",
    "class exp(UnaryOperator):\n",
    "    def diff(self):\n",
    "        # TODO\n",
    "        return exp(self.argument) * self.argument.diff()\n",
    "    \n",
    "    def __str__(self):\n",
    "        if isinstance(self.argument, Addition):\n",
    "            return r\"e^{\" + f\"({self.argument})\" + \"}\"\n",
    "        else:\n",
    "            return r\"e^{\" + str(self.argument) + \"}\"\n",
    "    \n",
    "class ln(UnaryOperator):\n",
    "    def diff(self):\n",
    "        # TODO\n",
    "        if isinstance(self.argument, cst):\n",
    "            return cst(0)\n",
    "        else:\n",
    "            return frc(self.argument) * self.argument.diff()\n",
    "            \n",
    "    def __str__(self):\n",
    "        return r\"ln({\" + f\"({self.argument})\" + r\"})\"\n",
    "\n",
    "class frc(UnaryOperator):\n",
    "    def __str__(self):\n",
    "        # TODO vypíšeme něco jako 1/(argument)\n",
    "#         return f\"1/({self.argument})\"\n",
    "        return r'\\frac{1}{' + str(self.argument) + r'}'\n",
    "        \n",
    "    def diff(self):\n",
    "        # TODO\n",
    "        return cst(-1) * frc(mocnina(self.argument, cst(2)))\n",
    "    \n",
    "def simplifyMultiple(expr, itr = 10):\n",
    "    for i in range(itr):\n",
    "        expr = simplify(expr)\n",
    "    return expr\n",
    "    \n",
    "def simplify(expr):\n",
    "    if isinstance(expr, Multiplication):\n",
    "        if expr.levy_argument == cst(1):\n",
    "            return simplify(expr.pravy_argument)\n",
    "        \n",
    "        elif expr.pravy_argument == cst(1):\n",
    "            return simplify(expr.levy_argument)\n",
    "        \n",
    "        elif expr.levy_argument == cst(0) or expr.pravy_argument == cst(0):\n",
    "            return cst(0)\n",
    "        \n",
    "        elif isinstance(expr.levy_argument, cst) and isinstance(expr.pravy_argument, cst):\n",
    "            return cst(expr.levy_argument.value * expr.pravy_argument.value)\n",
    "        \n",
    "        elif isinstance(expr.levy_argument, cst) and isinstance(expr.pravy_argument, Multiplication) and isinstance(expr.pravy_argument.levy_argument, cst):\n",
    "            return Multiplication(cst(expr.levy_argument.value * expr.pravy_argument.levy_argument.value), simplify(expr.pravy_argument.pravy_argument))\n",
    "        \n",
    "        elif isinstance(expr.levy_argument, cst) and isinstance(expr.pravy_argument, mocnina) and isinstance(expr.pravy_argument.argument, Multiplication):\n",
    "            return mocnina(Multiplication(cst(expr.levy_argument.value*expr.pravy_argument.argument.levy_argument.value), expr.pravy_argument.argument.pravy_argument), expr.pravy_argument.exponent)\n",
    "        \n",
    "        else:\n",
    "            if isinstance(expr.pravy_argument, cst): \n",
    "                return Multiplication(simplify(expr.pravy_argument), simplify(expr.levy_argument))\n",
    "            else:\n",
    "                return Multiplication(simplify(expr.levy_argument), simplify(expr.pravy_argument))\n",
    "        \n",
    "    elif isinstance(expr, Addition):\n",
    "        if expr.levy_argument == cst(0):\n",
    "            return simplify(expr.pravy_argument)\n",
    "        elif expr.pravy_argument == cst(0):\n",
    "            return simplify(expr.levy_argument)\n",
    "        else:  \n",
    "            return Addition(simplify(expr.levy_argument), simplify(expr.pravy_argument))\n",
    "        \n",
    "    else:\n",
    "        return expr    \n",
    "\n",
    "def lprint(text):\n",
    "    output = str(text)\n",
    "    display(Math(output))\n",
    "    \n",
    "def print_status(expr):\n",
    "    print(\"function:\")\n",
    "    lprint(expr)\n",
    "    print(\"derivative of the function:\")\n",
    "    lprint(expr.diff())\n",
    "    print(\"simplification of the derivative:\")\n",
    "    lprint(simplifyMultiple(expr.diff()))"
   ]
  },
  {
   "cell_type": "code",
   "execution_count": 195,
   "metadata": {},
   "outputs": [
    {
     "data": {
      "text/latex": [
       "$\\displaystyle x$"
      ],
      "text/plain": [
       "<IPython.core.display.Math object>"
      ]
     },
     "metadata": {},
     "output_type": "display_data"
    }
   ],
   "source": [
    "x = identity(\"x\")\n",
    "lprint(x)"
   ]
  },
  {
   "cell_type": "code",
   "execution_count": 196,
   "metadata": {},
   "outputs": [
    {
     "name": "stdout",
     "output_type": "stream",
     "text": [
      "function:\n"
     ]
    },
    {
     "data": {
      "text/latex": [
       "$\\displaystyle \\frac{1}{e^{2x} -2{y^{5}}} -1 cos(-5y)+ sin(e^{(2+yx)})$"
      ],
      "text/plain": [
       "<IPython.core.display.Math object>"
      ]
     },
     "metadata": {},
     "output_type": "display_data"
    },
    {
     "name": "stdout",
     "output_type": "stream",
     "text": [
      "derivative of the function:\n"
     ]
    },
    {
     "data": {
      "text/latex": [
       "$\\displaystyle -1\\frac{1}{{(e^{2x} -2{y^{5}})^{2}}}+0 cos(-5y) -1-1 sin(-5y)(0y -5)+ cos(e^{(2+yx)})e^{(2+yx)}(0+1x+y1)$"
      ],
      "text/plain": [
       "<IPython.core.display.Math object>"
      ]
     },
     "metadata": {},
     "output_type": "display_data"
    },
    {
     "name": "stdout",
     "output_type": "stream",
     "text": [
      "simplification of the derivative:\n"
     ]
    },
    {
     "data": {
      "text/latex": [
       "$\\displaystyle -1\\frac{1}{{(e^{2x} -2{y^{5}})^{2}}} -5 sin(-5y)+ cos(e^{(2+yx)})e^{(2+yx)}(x+y)$"
      ],
      "text/plain": [
       "<IPython.core.display.Math object>"
      ]
     },
     "metadata": {},
     "output_type": "display_data"
    }
   ],
   "source": [
    "x = identity(\"x\")\n",
    "y = identity(\"y\")\n",
    "expr1 = frc((exp(x+x) + cst(-2)*mocnina(y, cst(5)))) - cos(cst(-5)*y) + sin(exp(cst(2)+y * x))\n",
    "print_status(expr1)"
   ]
  },
  {
   "cell_type": "code",
   "execution_count": 179,
   "metadata": {},
   "outputs": [
    {
     "data": {
      "text/plain": [
       "-5-2x^{-3}"
      ]
     },
     "execution_count": 179,
     "metadata": {},
     "output_type": "execute_result"
    }
   ],
   "source": [
    "expr1.diff().pravy_argument"
   ]
  },
  {
   "cell_type": "code",
   "execution_count": 90,
   "metadata": {},
   "outputs": [
    {
     "name": "stdout",
     "output_type": "stream",
     "text": [
      "e^{2x}(0x+2)\n",
      "<class '__main__.Multiplication'>\n",
      "0x+2\n",
      "0\n"
     ]
    },
    {
     "data": {
      "text/plain": [
       "False"
      ]
     },
     "execution_count": 90,
     "metadata": {},
     "output_type": "execute_result"
    }
   ],
   "source": [
    "expr2 = expr1.diff()\n",
    "print(expr2)\n",
    "print(type(expr2))\n",
    "print(expr2.pravy_argument)\n",
    "print(expr2.pravy_argument.levy_argument.levy_argument)\n",
    "expr2.pravy_argument.levy_argument.levy_argument == cst(1)"
   ]
  },
  {
   "cell_type": "code",
   "execution_count": 24,
   "metadata": {},
   "outputs": [
    {
     "data": {
      "text/latex": [
       "$\\displaystyle (-2) \\cdot (x^{5})+2$"
      ],
      "text/plain": [
       "<IPython.core.display.Math object>"
      ]
     },
     "metadata": {},
     "output_type": "display_data"
    }
   ],
   "source": [
    "x = identity(\"x\")\n",
    "y = identity(\"x\")\n",
    "expr1 = cst(-2)*mocnina(y, cst(5)) + cst(2)\n",
    "# lprint(expr1)\n",
    "# lprint(expr1.diff())\n",
    "# lprint(simplify(expr1.diff()))\n",
    "lprint(expr1)"
   ]
  },
  {
   "cell_type": "code",
   "execution_count": 25,
   "metadata": {},
   "outputs": [
    {
     "data": {
      "text/plain": [
       "True"
      ]
     },
     "execution_count": 25,
     "metadata": {},
     "output_type": "execute_result"
    }
   ],
   "source": [
    "expr1.diff().levy_argument.levy_argument.levy_argument == cst(0)"
   ]
  },
  {
   "cell_type": "code",
   "execution_count": 26,
   "metadata": {},
   "outputs": [
    {
     "name": "stdout",
     "output_type": "stream",
     "text": [
      " \\sin{x+ \\cos{(x) \\cdot (x)}}+1\n"
     ]
    },
    {
     "ename": "AttributeError",
     "evalue": "'Multiplication' object has no attribute 'value'",
     "output_type": "error",
     "traceback": [
      "\u001b[1;31m---------------------------------------------------------------------------\u001b[0m",
      "\u001b[1;31mAttributeError\u001b[0m                            Traceback (most recent call last)",
      "\u001b[1;32m~\\AppData\\Local\\Temp\\ipykernel_6224\\1857864616.py\u001b[0m in \u001b[0;36m<module>\u001b[1;34m\u001b[0m\n\u001b[0;32m      4\u001b[0m \u001b[0mf1\u001b[0m \u001b[1;33m=\u001b[0m \u001b[0msin\u001b[0m\u001b[1;33m(\u001b[0m\u001b[0mx\u001b[0m \u001b[1;33m+\u001b[0m \u001b[0mcos\u001b[0m\u001b[1;33m(\u001b[0m\u001b[0mx\u001b[0m\u001b[1;33m*\u001b[0m\u001b[0mx\u001b[0m\u001b[1;33m)\u001b[0m\u001b[1;33m)\u001b[0m \u001b[1;33m+\u001b[0m \u001b[0mcst\u001b[0m\u001b[1;33m(\u001b[0m\u001b[1;36m1\u001b[0m\u001b[1;33m)\u001b[0m\u001b[1;33m\u001b[0m\u001b[1;33m\u001b[0m\u001b[0m\n\u001b[0;32m      5\u001b[0m \u001b[0mprint\u001b[0m\u001b[1;33m(\u001b[0m\u001b[0mf1\u001b[0m\u001b[1;33m)\u001b[0m\u001b[1;33m\u001b[0m\u001b[1;33m\u001b[0m\u001b[0m\n\u001b[1;32m----> 6\u001b[1;33m \u001b[0mprint\u001b[0m\u001b[1;33m(\u001b[0m\u001b[0mf1\u001b[0m\u001b[1;33m.\u001b[0m\u001b[0mdiff\u001b[0m\u001b[1;33m(\u001b[0m\u001b[1;33m)\u001b[0m\u001b[1;33m)\u001b[0m\u001b[1;33m\u001b[0m\u001b[1;33m\u001b[0m\u001b[0m\n\u001b[0m",
      "\u001b[1;32m~\\AppData\\Local\\Temp\\ipykernel_6224\\3097799591.py\u001b[0m in \u001b[0;36mdiff\u001b[1;34m(self)\u001b[0m\n\u001b[0;32m     43\u001b[0m     \u001b[1;32mdef\u001b[0m \u001b[0mdiff\u001b[0m\u001b[1;33m(\u001b[0m\u001b[0mself\u001b[0m\u001b[1;33m)\u001b[0m\u001b[1;33m:\u001b[0m\u001b[1;33m\u001b[0m\u001b[1;33m\u001b[0m\u001b[0m\n\u001b[0;32m     44\u001b[0m         \u001b[1;31m# TODO\u001b[0m\u001b[1;33m\u001b[0m\u001b[1;33m\u001b[0m\u001b[0m\n\u001b[1;32m---> 45\u001b[1;33m         \u001b[1;32mreturn\u001b[0m \u001b[0mself\u001b[0m\u001b[1;33m.\u001b[0m\u001b[0mlevy_argument\u001b[0m\u001b[1;33m.\u001b[0m\u001b[0mdiff\u001b[0m\u001b[1;33m(\u001b[0m\u001b[1;33m)\u001b[0m \u001b[1;33m+\u001b[0m \u001b[0mself\u001b[0m\u001b[1;33m.\u001b[0m\u001b[0mpravy_argument\u001b[0m\u001b[1;33m.\u001b[0m\u001b[0mdiff\u001b[0m\u001b[1;33m(\u001b[0m\u001b[1;33m)\u001b[0m\u001b[1;33m\u001b[0m\u001b[1;33m\u001b[0m\u001b[0m\n\u001b[0m\u001b[0;32m     46\u001b[0m \u001b[1;33m\u001b[0m\u001b[0m\n\u001b[0;32m     47\u001b[0m \u001b[1;32mclass\u001b[0m \u001b[0mMultiplication\u001b[0m\u001b[1;33m(\u001b[0m\u001b[0mBinaryOperator\u001b[0m\u001b[1;33m)\u001b[0m\u001b[1;33m:\u001b[0m\u001b[1;33m\u001b[0m\u001b[1;33m\u001b[0m\u001b[0m\n",
      "\u001b[1;32m~\\AppData\\Local\\Temp\\ipykernel_6224\\3097799591.py\u001b[0m in \u001b[0;36mdiff\u001b[1;34m(self)\u001b[0m\n\u001b[0;32m    126\u001b[0m     \u001b[1;32mdef\u001b[0m \u001b[0mdiff\u001b[0m\u001b[1;33m(\u001b[0m\u001b[0mself\u001b[0m\u001b[1;33m)\u001b[0m\u001b[1;33m:\u001b[0m\u001b[1;33m\u001b[0m\u001b[1;33m\u001b[0m\u001b[0m\n\u001b[0;32m    127\u001b[0m         \u001b[1;31m# TODO\u001b[0m\u001b[1;33m\u001b[0m\u001b[1;33m\u001b[0m\u001b[0m\n\u001b[1;32m--> 128\u001b[1;33m         \u001b[1;32mreturn\u001b[0m \u001b[0mcos\u001b[0m\u001b[1;33m(\u001b[0m\u001b[0mself\u001b[0m\u001b[1;33m.\u001b[0m\u001b[0margument\u001b[0m\u001b[1;33m)\u001b[0m \u001b[1;33m*\u001b[0m \u001b[0mself\u001b[0m\u001b[1;33m.\u001b[0m\u001b[0margument\u001b[0m\u001b[1;33m.\u001b[0m\u001b[0mdiff\u001b[0m\u001b[1;33m(\u001b[0m\u001b[1;33m)\u001b[0m\u001b[1;33m\u001b[0m\u001b[1;33m\u001b[0m\u001b[0m\n\u001b[0m\u001b[0;32m    129\u001b[0m \u001b[1;33m\u001b[0m\u001b[0m\n\u001b[0;32m    130\u001b[0m     \u001b[1;32mdef\u001b[0m \u001b[0m__str__\u001b[0m\u001b[1;33m(\u001b[0m\u001b[0mself\u001b[0m\u001b[1;33m)\u001b[0m\u001b[1;33m:\u001b[0m\u001b[1;33m\u001b[0m\u001b[1;33m\u001b[0m\u001b[0m\n",
      "\u001b[1;32m~\\AppData\\Local\\Temp\\ipykernel_6224\\3097799591.py\u001b[0m in \u001b[0;36mdiff\u001b[1;34m(self)\u001b[0m\n\u001b[0;32m     43\u001b[0m     \u001b[1;32mdef\u001b[0m \u001b[0mdiff\u001b[0m\u001b[1;33m(\u001b[0m\u001b[0mself\u001b[0m\u001b[1;33m)\u001b[0m\u001b[1;33m:\u001b[0m\u001b[1;33m\u001b[0m\u001b[1;33m\u001b[0m\u001b[0m\n\u001b[0;32m     44\u001b[0m         \u001b[1;31m# TODO\u001b[0m\u001b[1;33m\u001b[0m\u001b[1;33m\u001b[0m\u001b[0m\n\u001b[1;32m---> 45\u001b[1;33m         \u001b[1;32mreturn\u001b[0m \u001b[0mself\u001b[0m\u001b[1;33m.\u001b[0m\u001b[0mlevy_argument\u001b[0m\u001b[1;33m.\u001b[0m\u001b[0mdiff\u001b[0m\u001b[1;33m(\u001b[0m\u001b[1;33m)\u001b[0m \u001b[1;33m+\u001b[0m \u001b[0mself\u001b[0m\u001b[1;33m.\u001b[0m\u001b[0mpravy_argument\u001b[0m\u001b[1;33m.\u001b[0m\u001b[0mdiff\u001b[0m\u001b[1;33m(\u001b[0m\u001b[1;33m)\u001b[0m\u001b[1;33m\u001b[0m\u001b[1;33m\u001b[0m\u001b[0m\n\u001b[0m\u001b[0;32m     46\u001b[0m \u001b[1;33m\u001b[0m\u001b[0m\n\u001b[0;32m     47\u001b[0m \u001b[1;32mclass\u001b[0m \u001b[0mMultiplication\u001b[0m\u001b[1;33m(\u001b[0m\u001b[0mBinaryOperator\u001b[0m\u001b[1;33m)\u001b[0m\u001b[1;33m:\u001b[0m\u001b[1;33m\u001b[0m\u001b[1;33m\u001b[0m\u001b[0m\n",
      "\u001b[1;32m~\\AppData\\Local\\Temp\\ipykernel_6224\\3097799591.py\u001b[0m in \u001b[0;36m__add__\u001b[1;34m(self, other)\u001b[0m\n\u001b[0;32m     68\u001b[0m \u001b[1;33m\u001b[0m\u001b[0m\n\u001b[0;32m     69\u001b[0m     \u001b[1;32mdef\u001b[0m \u001b[0m__add__\u001b[0m\u001b[1;33m(\u001b[0m\u001b[0mself\u001b[0m\u001b[1;33m,\u001b[0m \u001b[0mother\u001b[0m\u001b[1;33m)\u001b[0m\u001b[1;33m:\u001b[0m\u001b[1;33m\u001b[0m\u001b[1;33m\u001b[0m\u001b[0m\n\u001b[1;32m---> 70\u001b[1;33m         \u001b[1;32mreturn\u001b[0m \u001b[0mcst\u001b[0m\u001b[1;33m(\u001b[0m\u001b[0mself\u001b[0m\u001b[1;33m.\u001b[0m\u001b[0mvalue\u001b[0m \u001b[1;33m+\u001b[0m \u001b[0mother\u001b[0m\u001b[1;33m.\u001b[0m\u001b[0mvalue\u001b[0m\u001b[1;33m)\u001b[0m\u001b[1;33m\u001b[0m\u001b[1;33m\u001b[0m\u001b[0m\n\u001b[0m\u001b[0;32m     71\u001b[0m \u001b[1;33m\u001b[0m\u001b[0m\n\u001b[0;32m     72\u001b[0m     \u001b[1;32mdef\u001b[0m \u001b[0m__mul__\u001b[0m\u001b[1;33m(\u001b[0m\u001b[0mself\u001b[0m\u001b[1;33m,\u001b[0m \u001b[0mother\u001b[0m\u001b[1;33m)\u001b[0m\u001b[1;33m:\u001b[0m\u001b[1;33m\u001b[0m\u001b[1;33m\u001b[0m\u001b[0m\n",
      "\u001b[1;31mAttributeError\u001b[0m: 'Multiplication' object has no attribute 'value'"
     ]
    }
   ],
   "source": [
    "# takto by se to mělo používat\n",
    "x = identity(\"x\")\n",
    "# sin(x + cos(x*x)) + 1\n",
    "f1 = sin(x + cos(x*x)) + cst(1)\n",
    "print(f1)\n",
    "print(f1.diff())"
   ]
  },
  {
   "cell_type": "markdown",
   "metadata": {},
   "source": [
    "můj výstup byl:\n",
    "\n",
    "`sin(x + cos((x)*(x))) + 1`\n",
    "\n",
    "`(cos(x + cos((x)*(x))))*(1 + ((-1)*(sin((x)*(x))))*((1)*(x) + (x)*(1))) + 0`"
   ]
  },
  {
   "cell_type": "code",
   "execution_count": 7,
   "metadata": {},
   "outputs": [
    {
     "name": "stdout",
     "output_type": "stream",
     "text": [
      "x^{2}+(2) \\cdot (x)+1+(2) \\cdot (x^{2})\n",
      "(2) \\cdot (x)^{1}+(0) \\cdot (x)+2+0+(0) \\cdot (x^{2})+(2) \\cdot ((2) \\cdot (x)^{1})\n"
     ]
    }
   ],
   "source": [
    "x = identity(\"x\")\n",
    "# x ^ 2 + 2x + 1 + 2x ^ 2\n",
    "f2 = mocnina(x,cst(2)) + cst(2)*x + cst(1) + cst(2)*mocnina(x,cst(2))\n",
    "print(f2)\n",
    "print(f2.diff())\n"
   ]
  },
  {
   "cell_type": "markdown",
   "metadata": {},
   "source": [
    "můj výstup byl:\n",
    "\n",
    "`(x)^2 + (2)*(x) + 1 + (2)*((x)^2)`\n",
    "\n",
    "`((2)*((x)^1))*(1) + (0)*(x) + (2)*(1) + 0 + (0)*((x)^2) + (2)*(((2)*((x)^1))*(1))`"
   ]
  },
  {
   "cell_type": "code",
   "execution_count": 8,
   "metadata": {},
   "outputs": [
    {
     "name": "stdout",
     "output_type": "stream",
     "text": [
      "x^{2}+(2) \\cdot (x)+e^{(x)}\n",
      "(2) \\cdot (x)^{1}+(0) \\cdot (x)+2+(e^{(x)}) \\cdot (1)\n"
     ]
    }
   ],
   "source": [
    "x = identity(\"x\")\n",
    "# x ^ 2 + 2x + exp(x)\n",
    "f3 = mocnina(x,cst(2)) + cst(2)*x + exp(x)\n",
    "print(f3)\n",
    "print(f3.diff())\n"
   ]
  },
  {
   "cell_type": "markdown",
   "metadata": {},
   "source": [
    "můj výstup byl:\n",
    "\n",
    "`(x)^2 + (2)*(x) + exp(x)`\n",
    "\n",
    "`((2)*((x)^1))*(1) + (0)*(x) + (2)*(1) + (exp(x))*(1)`\n"
   ]
  },
  {
   "cell_type": "markdown",
   "metadata": {},
   "source": [
    "# Bonusový úkol:\n",
    "Doplňte ke všem třídám metodu `simplify()`, která provede zjednodušení výrazu. Například:\n",
    "- součet s nulou vrátí druhý operand\n",
    "- součin s nulou vrátí nulu\n",
    "- mocnina s exponentem 0 vrátí 1\n",
    "- mocnina s exponentem 1 vrátí první argument\n",
    "- součín dvou stejných argumentů vrátí mocninu s exponentem 2\n",
    "- součin konstant vrátí konstantu se součinem\n",
    "- ..."
   ]
  },
  {
   "cell_type": "markdown",
   "metadata": {},
   "source": []
  }
 ],
 "metadata": {
  "@webio": {
   "lastCommId": null,
   "lastKernelId": null
  },
  "kernelspec": {
   "display_name": "Python 3 (ipykernel)",
   "language": "python",
   "name": "python3"
  },
  "language_info": {
   "codemirror_mode": {
    "name": "ipython",
    "version": 3
   },
   "file_extension": ".py",
   "mimetype": "text/x-python",
   "name": "python",
   "nbconvert_exporter": "python",
   "pygments_lexer": "ipython3",
   "version": "3.9.13"
  },
  "vscode": {
   "interpreter": {
    "hash": "e7370f93d1d0cde622a1f8e1c04877d8463912d04d973331ad4851f04de6915a"
   }
  }
 },
 "nbformat": 4,
 "nbformat_minor": 2
}
